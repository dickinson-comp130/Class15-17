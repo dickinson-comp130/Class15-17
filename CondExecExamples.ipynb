{
 "cells": [
  {
   "cell_type": "markdown",
   "metadata": {},
   "source": [
    "# Class 15-17 - Conditional Execution\n",
    "**COMP130 - Introduction to Computing**  \n",
    "**Dickinson College**  "
   ]
  },
  {
   "cell_type": "markdown",
   "metadata": {},
   "source": [
    "### Boolean Expressions & Relational Operators:"
   ]
  },
  {
   "cell_type": "markdown",
   "metadata": {},
   "source": [
    "Boolean expressions use *Relational Operators* (e.g. `<`, `>=`, `==`) and evaluate to a value of either `True` or `False`. These values have the type `bool` (or *Boolean*)."
   ]
  },
  {
   "cell_type": "code",
   "execution_count": null,
   "metadata": {},
   "outputs": [],
   "source": [
    "bob_age=int(input(\"Enter Bob's age:\"))\n",
    "\n",
    "# Check if Bob is a minor (under 18).\n",
    "print('Bob is a minor: ' + str(bob_age < 18))\n",
    "\n",
    "# Check if Bob is a senior citizen (65 or over)\n",
    "print('Bob is a senior: ' + str(bob_age >= 65))\n",
    "\n",
    "# Check if Bob is exactly 25 years old.\n",
    "print('Bob is 25: ' + str(bob_age == 25))"
   ]
  },
  {
   "cell_type": "code",
   "execution_count": null,
   "metadata": {},
   "outputs": [],
   "source": [
    "type(bob_age < 18)"
   ]
  },
  {
   "cell_type": "markdown",
   "metadata": {},
   "source": [
    "### Conditional Execution (the `if` statement)"
   ]
  },
  {
   "cell_type": "markdown",
   "metadata": {},
   "source": [
    "The most common use of Boolean expressions is as the *condition* in `if` statements. If the *condition* evaluates to `True` the statements in the *body* of the `if` statement are executed.  If the *condition* evaluates to `False` then the *body* of the `if` statement is skipped.\n",
    "\n",
    "The following program only prints out the statement `You are legally an adult.` if the age entered is 18 or more."
   ]
  },
  {
   "cell_type": "code",
   "execution_count": null,
   "metadata": {},
   "outputs": [],
   "source": [
    "age=int(input('How old are you: '))\n",
    "if age >= 18:\n",
    "    print('You are legally an adult.')"
   ]
  },
  {
   "cell_type": "markdown",
   "metadata": {},
   "source": [
    "The following program will print out the statement `Hey! deepskyblue4 is my favorite too!` only if the user enters `deepskyblue4` as the color."
   ]
  },
  {
   "cell_type": "code",
   "execution_count": 15,
   "metadata": {},
   "outputs": [
    {
     "name": "stdout",
     "output_type": "stream",
     "text": [
      "What is your favorite Python color?3\n"
     ]
    }
   ],
   "source": [
    "color=input('What is your favorite Python color?')\n",
    "if color == 'deepskyblue4':\n",
    "    print('Hey! deepskyblue4 is my favorite too!')"
   ]
  },
  {
   "cell_type": "markdown",
   "metadata": {},
   "source": [
    "### Alternative Execution (the `if` / `else` statement)"
   ]
  },
  {
   "cell_type": "markdown",
   "metadata": {},
   "source": [
    "Often you'll want to do one thing when a condition is true and something different when it is false.  The `if`/`else` statement provides this functionality.  If the *condition* of the `if` statement evaluates to `True` the body of the `if` is executed (just as above).  If the *condition* of the `if` evaluates to `False` then the body of the `else` is executed.  In every case, either the body of the `if` is executed (if the condition is `True`) or the body of the `else` is executed (if the condition is `False`).\n",
    "\n",
    "The following program prints out either `You are legally an adult.` if the user enters an age of 18 or more and prints out `You are legally a minor.` if the user enters an age less than 18."
   ]
  },
  {
   "cell_type": "code",
   "execution_count": 17,
   "metadata": {},
   "outputs": [
    {
     "name": "stdout",
     "output_type": "stream",
     "text": [
      "How old are you:19\n",
      "You are legally an adult.\n"
     ]
    }
   ],
   "source": [
    "age=int(input('How old are you: '))\n",
    "if age >= 18:\n",
    "    print('You are legally an adult.')\n",
    "else:\n",
    "    print('You are legally a minor.')"
   ]
  },
  {
   "cell_type": "markdown",
   "metadata": {},
   "source": [
    "![Stop sign](stop.png)\n",
    "End of Class 15 material."
   ]
  },
  {
   "cell_type": "markdown",
   "metadata": {},
   "source": [
    "### Logical Operators\n",
    "\n",
    "Python provides the logical operators `and`, `or` and `not` that allow the expression of more complex conditions.  \n",
    "\n",
    "The following program prompts the user for an age and then prints `You are a teenager.` if the age is between 13 and 19.  "
   ]
  },
  {
   "cell_type": "code",
   "execution_count": null,
   "metadata": {},
   "outputs": [],
   "source": [
    "age=int(input('How old are you: '))\n",
    "if age >= 13 and age <= 19:\n",
    "    print('You are a teenager.')"
   ]
  },
  {
   "cell_type": "markdown",
   "metadata": {},
   "source": [
    "The following program prompt the user for an age and prints `Discount applies.` if the age is a child (under 12) or a senior (65 or over).  If there is not discount, it prints `Regular price.`"
   ]
  },
  {
   "cell_type": "code",
   "execution_count": 25,
   "metadata": {},
   "outputs": [
    {
     "name": "stdout",
     "output_type": "stream",
     "text": [
      "How old are you: 3\n",
      "Discount applies.\n"
     ]
    }
   ],
   "source": [
    "age=int(input('How old are you: '))\n",
    "if (age < 12) or (age >= 65):\n",
    "    print('Discount applies.')\n",
    "else:\n",
    "    print('Regular price.')"
   ]
  },
  {
   "cell_type": "markdown",
   "metadata": {},
   "source": [
    "Note that the `(...)` around the pieces of the Boolean expression are not required. However, using them can make complex expressions less error prone and more readable."
   ]
  },
  {
   "cell_type": "markdown",
   "metadata": {},
   "source": [
    "![Stop sign](stop.png)\n",
    "End of Class 16 material."
   ]
  },
  {
   "cell_type": "markdown",
   "metadata": {},
   "source": [
    "### Chained Conditionals\n",
    "\n",
    "Sometimes there are more than two options that need to be handled by a conditional statement.  When there are a list of mutually exclusive options a *chained conditional* (`if`/`elif`/`else`) statement is the best choice.  With a *chained conditional* the *conditions* are evaluated fro top to bottom and the first *branch* for which the *condition* evaluates to true will execute.\n",
    "\n",
    "The following program asks if the user would like Breakfast, Lunch or Dinner and prints out the menu for the requested meal."
   ]
  },
  {
   "cell_type": "code",
   "execution_count": 6,
   "metadata": {},
   "outputs": [
    {
     "name": "stdout",
     "output_type": "stream",
     "text": [
      "Which meal would you like [B]reakfast, [L]unch, [D]inner?d\n",
      "Sorry I did not recognize that meal.\n"
     ]
    }
   ],
   "source": [
    "meal=input('Which meal would you like [B]reakfast, [L]unch, [D]inner?')\n",
    "\n",
    "if meal == 'B':\n",
    "    print('2 eggs, hashbrowns and toast')\n",
    "elif meal == 'L':\n",
    "    print('Club sandwich, chips and pickle')\n",
    "elif meal == 'D':\n",
    "    print('Spaghetti with maranara and garden salad')\n",
    "else:\n",
    "    print('Sorry I did not recognize that meal.')"
   ]
  },
  {
   "cell_type": "markdown",
   "metadata": {},
   "source": [
    "__Q:__ How could the above program be modified to accept either upper or lowercase letters?"
   ]
  },
  {
   "cell_type": "markdown",
   "metadata": {},
   "source": [
    "### Nested Conditionals\n",
    "\n",
    "Because the *body* of a conditional can contain other statements, it is permissible to use another `if`, `if`/`else`, *chained conditional* or even a `for` loop in the body of another conditional. \n",
    "\n",
    "The following program will print out the largest value from the variables `a`, `b` or `c`:"
   ]
  },
  {
   "cell_type": "code",
   "execution_count": 17,
   "metadata": {},
   "outputs": [
    {
     "name": "stdout",
     "output_type": "stream",
     "text": [
      "12\n"
     ]
    }
   ],
   "source": [
    "a=8\n",
    "b=12\n",
    "c=9\n",
    "\n",
    "if a > b:\n",
    "    if a > c:\n",
    "        print(a)\n",
    "    else:\n",
    "        print(c)\n",
    "else:\n",
    "    if b > c:\n",
    "        print(b)\n",
    "    else:\n",
    "        print(c)"
   ]
  },
  {
   "cell_type": "markdown",
   "metadata": {},
   "source": [
    "Sometimes when conditionals are nested the logic can be expressed more easily using logical operators with a regular conditional or a chained conditional can express the idea more clearly."
   ]
  },
  {
   "cell_type": "code",
   "execution_count": 18,
   "metadata": {},
   "outputs": [
    {
     "name": "stdout",
     "output_type": "stream",
     "text": [
      "12\n"
     ]
    }
   ],
   "source": [
    "if (a > b) and (a > c):  # A is the largest\n",
    "    print(a)\n",
    "else:                    # Either b or c is the largest.\n",
    "    if (b > c):  \n",
    "        print (b)\n",
    "    else:\n",
    "        print(c)"
   ]
  }
 ],
 "metadata": {
  "kernelspec": {
   "display_name": "Python 3",
   "language": "python",
   "name": "python3"
  },
  "language_info": {
   "codemirror_mode": {
    "name": "ipython",
    "version": 3
   },
   "file_extension": ".py",
   "mimetype": "text/x-python",
   "name": "python",
   "nbconvert_exporter": "python",
   "pygments_lexer": "ipython3",
   "version": "3.7.3"
  }
 },
 "nbformat": 4,
 "nbformat_minor": 2
}
