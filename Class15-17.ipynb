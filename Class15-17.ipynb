{
 "cells": [
  {
   "cell_type": "markdown",
   "metadata": {},
   "source": [
    "# Class 15-17 - Conditional Execution \n",
    "**COMP130 - Introduction to Computing**  \n",
    "**Dickinson College**  "
   ]
  },
  {
   "cell_type": "markdown",
   "metadata": {},
   "source": [
    "### Names:"
   ]
  },
  {
   "cell_type": "markdown",
   "metadata": {},
   "source": []
  },
  {
   "cell_type": "markdown",
   "metadata": {},
   "source": [
    "### Boolean Values"
   ]
  },
  {
   "cell_type": "markdown",
   "metadata": {},
   "source": [
    "__Q1:__ What are the two Boolean values in Python?"
   ]
  },
  {
   "cell_type": "markdown",
   "metadata": {},
   "source": []
  },
  {
   "cell_type": "markdown",
   "metadata": {},
   "source": [
    "__Q2:__ What is the `type` of those values?"
   ]
  },
  {
   "cell_type": "markdown",
   "metadata": {},
   "source": []
  },
  {
   "cell_type": "markdown",
   "metadata": {},
   "source": [
    "__Q3:__ Does the capitalization of the Boolean values matter in Python?  Give an example to support your answer."
   ]
  },
  {
   "cell_type": "code",
   "execution_count": null,
   "metadata": {},
   "outputs": [],
   "source": []
  },
  {
   "cell_type": "markdown",
   "metadata": {},
   "source": []
  },
  {
   "cell_type": "markdown",
   "metadata": {},
   "source": [
    "__Q4:__ Can a Boolean value be assigned to a variable like integer, float and string values can (e.g. `x=7` or name=`Will`)?  If so what is the type of that variable? Give an example to show your answer. "
   ]
  },
  {
   "cell_type": "code",
   "execution_count": null,
   "metadata": {},
   "outputs": [],
   "source": []
  },
  {
   "cell_type": "markdown",
   "metadata": {},
   "source": []
  },
  {
   "cell_type": "markdown",
   "metadata": {},
   "source": [
    "### Relational Operators and Boolean Expressions"
   ]
  },
  {
   "cell_type": "markdown",
   "metadata": {},
   "source": [
    "__Q5:__ What are the 6 relational operators in Python?"
   ]
  },
  {
   "cell_type": "markdown",
   "metadata": {},
   "source": []
  },
  {
   "cell_type": "markdown",
   "metadata": {},
   "source": [
    "__Q6:__ A lot of programming languages use `==` to check if two values are equal.  Why do you think they do that instead of using just one `=`?"
   ]
  },
  {
   "cell_type": "markdown",
   "metadata": {},
   "source": []
  },
  {
   "cell_type": "markdown",
   "metadata": {},
   "source": [
    "__Q7:__ Assume that a program contains the following variables:\n",
    "- `a=5`\n",
    "- `b=7`\n",
    "- `c='boo'`\n",
    "- `d='moo'`\n",
    "\n",
    "In the same way arithmetic expressions involving arithmetic operators (e.g. `+`,`-`, `*`, etc.) result in numeric values, *Boolean expressions* involving *relational operators* result in Boolean values.   \n",
    "\n",
    "Given the above variables, what is the value of each of the following Boolean expressions?\n",
    "1. `a == b`\n",
    "1. `a != b`\n",
    "1. `a > b-2`\n",
    "1. `a+2 <= b+1`\n",
    "1. `a == a+1`\n",
    "1. `c != 'boo'`\n",
    "1. `c+d == 'boomoo'`"
   ]
  },
  {
   "cell_type": "markdown",
   "metadata": {},
   "source": []
  },
  {
   "cell_type": "markdown",
   "metadata": {},
   "source": [
    "### Conditional Execution (the `if` statement) "
   ]
  },
  {
   "cell_type": "markdown",
   "metadata": {},
   "source": [
    "__Q8:__ Rearrange the following statements and expressions to create a program that prompts the user for a price and prints `That's cheap!` if a price of less than 100 is entered:\n",
    "```Python\n",
    "print(\"That's cheap.\")\n",
    "if price < 100:\n",
    "price=int(input(\"Enter a price: \"))\n",
    "```"
   ]
  },
  {
   "cell_type": "code",
   "execution_count": null,
   "metadata": {},
   "outputs": [],
   "source": []
  },
  {
   "cell_type": "markdown",
   "metadata": {},
   "source": [
    "__Q9:__ What is the *condition* in the `if` statement in __Q8__?"
   ]
  },
  {
   "cell_type": "markdown",
   "metadata": {},
   "source": []
  },
  {
   "cell_type": "markdown",
   "metadata": {},
   "source": [
    "__Q10:__ Write a program that prompts the user for a price and prints `That's expensive!` if a price of 100 or more is entered."
   ]
  },
  {
   "cell_type": "code",
   "execution_count": null,
   "metadata": {},
   "outputs": [],
   "source": []
  },
  {
   "cell_type": "markdown",
   "metadata": {},
   "source": [
    "__Q11:__ Write a program that prompts the user for an amount of snowfall in inches and prints out \"School is closed.\" if four or more inches of snow has fallen."
   ]
  },
  {
   "cell_type": "code",
   "execution_count": null,
   "metadata": {},
   "outputs": [],
   "source": []
  },
  {
   "cell_type": "markdown",
   "metadata": {},
   "source": [
    "__Q12:__ Write a program that generates a random integer from 1...10 and then prompts the user for a guess.  If the user guesses the number the program should print \"You win!\" If the user does not guess the number it should print \"Better luck next time!\" Whether the user wins or loses the program prints out `Thanks for playing.` at the end. Use only simple `if` statements (without an `else`) for this question."
   ]
  },
  {
   "cell_type": "code",
   "execution_count": null,
   "metadata": {},
   "outputs": [],
   "source": []
  },
  {
   "cell_type": "markdown",
   "metadata": {},
   "source": [
    "### Alternative Execution (the `if` / `else` statement)"
   ]
  },
  {
   "cell_type": "markdown",
   "metadata": {},
   "source": [
    "__Q13:__ Rearrange the following Python statements into a program so that that program will:\n",
    "- Prompt the user for a distance to home.\n",
    "- Prints `That's pretty far.` if it is 250 or more miles to home.\n",
    "- Prints `That's pretty close.` if it is less than 250 miles to home.\n",
    "- Prints `We are glad you are here` at the end no matter what the distance is.\n",
    "        \n",
    "```Python\n",
    "else:\n",
    "print('That's pretty far.')\n",
    "if distance >= 250:\n",
    "print('We are glad you are here.')\n",
    "print('That's pretty close.')  \n",
    "distance=int(input('How many miles is it to home?'))\n",
    "```"
   ]
  },
  {
   "cell_type": "code",
   "execution_count": null,
   "metadata": {},
   "outputs": [],
   "source": []
  },
  {
   "cell_type": "markdown",
   "metadata": {},
   "source": [
    "__Q14:__ Rewrite the the program from __Q13__ changing the *condition* and the order of the statements so that `That's pretty close.` is printed in the `if` part and `That's pretty far.` is printed in the `else` part."
   ]
  },
  {
   "cell_type": "code",
   "execution_count": null,
   "metadata": {},
   "outputs": [],
   "source": []
  },
  {
   "cell_type": "markdown",
   "metadata": {},
   "source": [
    "__Q15:__ Rewrite your program from __Q12__ using alternative execution (i.e. using an `if`/`else`) instead of two separate `if` statements."
   ]
  },
  {
   "cell_type": "code",
   "execution_count": null,
   "metadata": {},
   "outputs": [],
   "source": []
  },
  {
   "cell_type": "markdown",
   "metadata": {},
   "source": [
    "__Q16:__ Write a program that:\n",
    "- Prompts the user for the day of the week.\n",
    "- Prints `It's taco Tuesday!` if it is Tuesday.\n",
    "- Prints `No tacos today.` if it is not Tuesday.\n",
    "- Prints `It's the weekend` and then on another line `Hooray for Saturday!` if it is Saturday."
   ]
  },
  {
   "cell_type": "code",
   "execution_count": null,
   "metadata": {},
   "outputs": [],
   "source": []
  },
  {
   "cell_type": "markdown",
   "metadata": {},
   "source": [
    "__Q17:__ The following statements will randomly assign either the string `'heads'` or the string `'tails'` to the variable `flip` and print it out:\n",
    "```Python\n",
    "import random\n",
    "\n",
    "flip=random.choice(['heads', 'tails'])\n",
    "print(flip)\n",
    "```\n",
    "\n",
    "Use the above code and write a program that performs 100 coin flips, counting the number of times `heads` comes up and then prints out that number at the end.'\n",
    "\n",
    "Hint: Use an `if` statement in the body of (i.e. indented in) a `for` loop."
   ]
  },
  {
   "cell_type": "code",
   "execution_count": null,
   "metadata": {},
   "outputs": [],
   "source": []
  },
  {
   "cell_type": "markdown",
   "metadata": {},
   "source": [
    "![Stop sign](stop.png)\n",
    "End of Class 15 material."
   ]
  },
  {
   "cell_type": "markdown",
   "metadata": {},
   "source": [
    "### Logical Operators"
   ]
  },
  {
   "cell_type": "markdown",
   "metadata": {},
   "source": [
    "__Q18:__ What are the three Logical (a.k.a. Boolean) Operators in Python?"
   ]
  },
  {
   "cell_type": "markdown",
   "metadata": {},
   "source": []
  },
  {
   "cell_type": "markdown",
   "metadata": {},
   "source": [
    "__Q19:__ For each of the following Boolean expressions give one value for the variable `x` that will make the expression `True` and one value for the variable `x` that will make the expression `False`.\n",
    "- `(x > 3) and (x < 10)`\n",
    "- `(x < 3) or (x > 10)`\n",
    "- `not (x == 7)`\n",
    "- `(x == 10) or (x > 100)`\n",
    "- `not ( x == 5 or x == 10)`\n",
    "- `(x > 10) and not (x <= 100)`"
   ]
  },
  {
   "cell_type": "markdown",
   "metadata": {},
   "source": []
  },
  {
   "cell_type": "markdown",
   "metadata": {},
   "source": [
    "__Q20:__ Write a Python expression involving the variable `y` that evaluates to `True` for each of the following situations.\n",
    "- y is between 10 and 20 (inclusive).\n",
    "- y is not between 10 and 20 (inclusive).\n",
    "- y is either 7 or 10.\n",
    "- y is any number other than 100 or 200.\n",
    "- y is one of the numbers 1, 3, or 5.\n",
    "- y is an even number (divisible by 2) between 100 and 200.\n",
    "\n",
    "Note: You can test your answers in a code cell by assigning a value to `y`, assigning your expression to a variable and then printing that variable.  For example:\n",
    "```Python\n",
    "y=7\n",
    "e=(y==50) or (y<20)\n",
    "print(e)\n",
    "```\n",
    "\n",
    "Be sure to test not only that your expression returns `True` when it should, but also that it returns `False` otherwise."
   ]
  },
  {
   "cell_type": "markdown",
   "metadata": {},
   "source": []
  },
  {
   "cell_type": "markdown",
   "metadata": {},
   "source": [
    "__Q21:__ A grade between 80% (inclusive) and 90% (exclusive) is typically considered to be a \"B\".  Write a program that reads in a grade as an integer (e.g. 85 for an 85%) and prints out either `*pct* is a B` or `*pct* is not a B` with `*pct*` replaced with the value the user entered."
   ]
  },
  {
   "cell_type": "code",
   "execution_count": null,
   "metadata": {},
   "outputs": [],
   "source": []
  },
  {
   "cell_type": "markdown",
   "metadata": {},
   "source": [
    "__Q22:__ A leap year is most often thought of as any year that is divisible by 4.  However, a more precise definition is that it is any year that is divisible by 4 but not divisible by 100.  So for example the year 1896 was a leap year, but the year 1900 was not a leap year. Write a program using this definition of leap year that prompts the user for a year and then prints either `*year* was a leap year` or `*year* was not a leap year` as appropriate with `*year*` replaced with the year the user entered.  Recall that the `%` operator can be used to determine if one number is divisible by another.  For example if `x % 3 == 0` then `x` is divisible by `3`."
   ]
  },
  {
   "cell_type": "code",
   "execution_count": null,
   "metadata": {},
   "outputs": [],
   "source": []
  },
  {
   "cell_type": "markdown",
   "metadata": {},
   "source": [
    "__Q23:__ To be even more precise about leap years we need to add one more rule to those in __Q23__.  It says that any year divisible by 400 is a leap year.  So the full definition is now that a leap year is any year divisible by 4, that is not divisible by 100, unless it is also divisible by 400. So for example, the year 1900 was not leap year, but the year 2000 was a leap year. Write a program using this definition of leap year that prompts the user for a year and then prints either `*year* was a leap year` or `*year* was not a leap year` as appropriate."
   ]
  },
  {
   "cell_type": "code",
   "execution_count": null,
   "metadata": {},
   "outputs": [],
   "source": []
  },
  {
   "cell_type": "markdown",
   "metadata": {},
   "source": [
    "__Q24:__ In the casino game [Craps](https://en.wikipedia.org/wiki/Craps#Rules_of_play) players roll two six-sided die.  A first roll of 2, 3 or 12 is called \"craping out\".  Write a program that rolls two die 1000 times, counting the number of \"crap outs\" that occur.  Then at the end prints out the percentage of time the player will \"crap out\"."
   ]
  },
  {
   "cell_type": "code",
   "execution_count": null,
   "metadata": {},
   "outputs": [],
   "source": []
  },
  {
   "cell_type": "markdown",
   "metadata": {},
   "source": [
    "### Strings and Relational Operators"
   ]
  },
  {
   "cell_type": "markdown",
   "metadata": {},
   "source": [
    "It makes sense that the `==` and `!=` operators are able to compare string values.  What is less obvious is that the other relational operators (e.g. `>`, `<=`, etc.) also work on strings. And what is even less obvious is exactly what they do.  The next few questions will explore how operators like `<` and `>=` compare string values."
   ]
  },
  {
   "cell_type": "markdown",
   "metadata": {},
   "source": [
    "__Q25:__ Use a code cell to evaluate each the value of each of the following Boolean expressions and give their value in the markdown cell below.\n",
    "1. `'abc' < 'def'`\n",
    "1. `'abc' > 'def'`\n",
    "1. `'abc' == 'ABC'`\n",
    "1. `'abc' > 'Abc'`\n",
    "1. `'abc' < 'Abc'`\n",
    "1. `'123' > 'abc'`\n",
    "1. `'123' < 'Abc'`"
   ]
  },
  {
   "cell_type": "markdown",
   "metadata": {},
   "source": []
  },
  {
   "cell_type": "markdown",
   "metadata": {},
   "source": [
    "__Q26:__ From __Q25__ you can see that the relational operators sort of use alphabetical order but not quite.  Capitalization and digits matter when comparing strings using the relational operators. Do capital letters come before (less than) or after (greater than) lower case letters?  Do strings containing numbers come before or after strings containing letters?"
   ]
  },
  {
   "cell_type": "markdown",
   "metadata": {},
   "source": []
  },
  {
   "cell_type": "markdown",
   "metadata": {},
   "source": [
    "The way `>`, `>=`, `<` and `<=` work with strings may seem strange.  To understand it we need to understand that the computer actually uses numbers in its memory to represent *characters* (e.g. letters, digits, punctuation, etc.).  Each character has a corresponding number.  This relationship between the characters and the numbers is known as the *ASCII* (ASCII = American Standard Code for Information Interchange).  The table below shows the number (i.e the ASCII *Code*) that corresponds to the characters of the Roman Alphabet as well as digits and common punctuation.  For example:\n",
    "- `!` has the ASCII code 33,\n",
    "- `A` has the ASCII code 65 and,\n",
    "- `7` has the ASCII code 55.\n",
    "\n",
    "![ASCII Table](https://i.stack.imgur.com/89gYN.png)"
   ]
  },
  {
   "cell_type": "markdown",
   "metadata": {},
   "source": [
    "__Q27:__ What is the ASCII code of each of the following characters:\n",
    "- `Q`\n",
    "- `@`\n",
    "- `z`"
   ]
  },
  {
   "cell_type": "markdown",
   "metadata": {},
   "source": []
  },
  {
   "cell_type": "markdown",
   "metadata": {},
   "source": [
    "__Q28:__ Do capital letters have larger or smaller *ASCII codes* than lower case letters?  Do digits have larger or smaller *ASCII codes* than letters?"
   ]
  },
  {
   "cell_type": "markdown",
   "metadata": {},
   "source": []
  },
  {
   "cell_type": "markdown",
   "metadata": {},
   "source": [
    "When comparing strings the relational operators actually compare their ASCII codes.  Like alphabetizing words these comparisons start with the ASCII code of the first character in the string and then move on to subsequent characters as necessary (e.g. 123, art, an, ant, any, boat).  This allows all strings in Python (and most other programming langgues) to be place into *Lexicographical Order*."
   ]
  },
  {
   "cell_type": "markdown",
   "metadata": {},
   "source": [
    "__Q29:__ For each of the following pairs of strings, indicate if the first string comes before (i.e. is less than, `<`) or comes after (i.e. is greater than, `>`) the second string. You can use a code cell to verify your answer. \n",
    "- `'Dog'`, `'cat'`\n",
    "- `'What?'`, `'What!'`\n",
    "- `'19'`, `'120'`\n",
    "- `'-324'`, `'+324'`\n",
    "- `'Door #3'`, `'Door #21'`"
   ]
  },
  {
   "cell_type": "markdown",
   "metadata": {},
   "source": []
  },
  {
   "cell_type": "markdown",
   "metadata": {},
   "source": [
    "__Q30:__  Place the five left hand strings (e.g. `Dog`, `What?`, `19`, ...) from __Q29__ into *Lexicographical Order* using the ASCII codes of the characters."
   ]
  },
  {
   "cell_type": "markdown",
   "metadata": {},
   "source": []
  },
  {
   "cell_type": "markdown",
   "metadata": {},
   "source": [
    "__Q31:__ Write a program that prompts the user for a word. The program then prints out `*word* is in the first half of the alphabet.` (i.e. between `a` and `m`) or `*word* is in the second half of the alphabet.` (i.e. between `n` and `z`). \n",
    "\n",
    "If you get that working and want a little more challenge, make your program work for both capitalized words (`Bird`) and lowercase words (`bird`)."
   ]
  },
  {
   "cell_type": "code",
   "execution_count": null,
   "metadata": {},
   "outputs": [],
   "source": []
  },
  {
   "cell_type": "markdown",
   "metadata": {},
   "source": [
    "### Quirky Boolean Values"
   ]
  },
  {
   "cell_type": "markdown",
   "metadata": {},
   "source": [
    "In addition to the defined Boolean values `True` and `False` Python assigns a Boolean (truth) value to other types of values as well.  For example, running the code cell below will illustrate that the integer value `0` is also interpreted as `False` in Python.  While this may seem strange this is a common convention in many programming languages."
   ]
  },
  {
   "cell_type": "code",
   "execution_count": null,
   "metadata": {
    "deletable": false,
    "editable": false
   },
   "outputs": [],
   "source": [
    "if (0 == False):\n",
    "    print(\"0 has the value False\")\n",
    "else:\n",
    "    print(\"0 has the value True\")"
   ]
  },
  {
   "cell_type": "markdown",
   "metadata": {},
   "source": [
    "__Q32:__ In the markdown cell below, indicate the Boolean (truth) value of each of the following:\n",
    "- positive numbers\n",
    "- negative numbers\n",
    "- the empty string (`''`)\n",
    "- non-empty strings\n",
    "\n",
    "Hint: Use a code cell and experiment with some values."
   ]
  },
  {
   "cell_type": "markdown",
   "metadata": {},
   "source": []
  },
  {
   "cell_type": "markdown",
   "metadata": {},
   "source": [
    "Sometimes programmers will use these \"quirky\" Boolean value conventions to write clever code.  The author of our book says:\n",
    "\n",
    "> This flexibility can be useful, but there are some subtleties to it that might be confusing. You might want to avoid it (unless you know what you are doing).\n",
    "\n",
    "I would go one step further and suggest not relying on these conventions at all. Even if you do know what you are doing, someone reading your code later will find it more difficult to understand. I would suggest using the relational operators instead.  \n",
    "\n",
    "For example, the following program prints `Hello *name*.` if the user enters a name and nothing if the user enters an empty string:"
   ]
  },
  {
   "cell_type": "code",
   "execution_count": null,
   "metadata": {
    "deletable": false,
    "editable": false
   },
   "outputs": [],
   "source": [
    "name=input(\"Enter your name:\")\n",
    "if name:\n",
    "  print(\"Hello \" + name + \".\")"
   ]
  },
  {
   "cell_type": "markdown",
   "metadata": {},
   "source": [
    "The following program has the same functionality but it is much more clear what it does:"
   ]
  },
  {
   "cell_type": "code",
   "execution_count": null,
   "metadata": {
    "deletable": false,
    "editable": false
   },
   "outputs": [],
   "source": [
    "name=input(\"Enter your name:\")\n",
    "if name != '':\n",
    "  print(\"Hello \" + name + \".\")"
   ]
  },
  {
   "cell_type": "markdown",
   "metadata": {},
   "source": [
    "![Stop sign](stop.png)\n",
    "End of Class 16 material."
   ]
  },
  {
   "cell_type": "markdown",
   "metadata": {},
   "source": [
    "### Chained Conditionals"
   ]
  },
  {
   "cell_type": "markdown",
   "metadata": {},
   "source": [
    "Consider the chained conditional in the code cell below:"
   ]
  },
  {
   "cell_type": "code",
   "execution_count": 30,
   "metadata": {
    "deletable": false,
    "editable": false
   },
   "outputs": [
    {
     "name": "stdout",
     "output_type": "stream",
     "text": [
      "Enter a score out of 100:90\n",
      "A\n"
     ]
    }
   ],
   "source": [
    "grade=int(input('Enter a score out of 100: '))\n",
    "\n",
    "if grade >= 90:\n",
    "    print('A')\n",
    "elif grade >= 80:\n",
    "    print('B')\n",
    "elif grade >= 70:\n",
    "    print('C')\n",
    "elif grad >= 60:\n",
    "    print('D')\n",
    "else:\n",
    "    print('F')"
   ]
  },
  {
   "cell_type": "markdown",
   "metadata": {},
   "source": [
    "__Q33:__ What letter will be output if a score of 73 is input?"
   ]
  },
  {
   "cell_type": "markdown",
   "metadata": {},
   "source": []
  },
  {
   "cell_type": "markdown",
   "metadata": {},
   "source": [
    "__Q34:__ What values will cause the above program to print:\n",
    "- `B`?  \n",
    "- `D`? \n",
    "- `F`?"
   ]
  },
  {
   "cell_type": "markdown",
   "metadata": {},
   "source": []
  },
  {
   "cell_type": "markdown",
   "metadata": {},
   "source": [
    "__Q35:__  Rearrange the statements below into the code cell so that the program prints out:\n",
    "- `hot` when the user enters a temperature 90 degrees or more\n",
    "- `freezing` when the user enters a temperature 32 degrees or lower\n",
    "- `cold` when the temperature is between 33 and 65 degrees\n",
    "- `warm` when the temperature is above 66 degrees but less than 90 degrees.\n",
    "\n",
    "```Python\n",
    "elif temp <= 65:\n",
    "print('freezing')\n",
    "temp=int(input('Enter a temperature in Fahrenheit: '))\n",
    "else: \n",
    "print('hot')\n",
    "print('cold')\n",
    "elif temp < 90:\n",
    "print('warm')\n",
    "if temp <= 32:\n",
    "```"
   ]
  },
  {
   "cell_type": "code",
   "execution_count": null,
   "metadata": {},
   "outputs": [],
   "source": []
  },
  {
   "cell_type": "markdown",
   "metadata": {},
   "source": [
    "__Q36:__ The price of a movie ticket typically depends upon the age of the person.  Write a program that prompts for the age of a person and then uses a *cascading conditional* to print the price of the ticket using the following price scale:\n",
    "- child (under 12) : \\$5.00\n",
    "- student (under 18) : \\$7.00\n",
    "- adult : \\$11.00\n",
    "- senior citizen (65 or over) : \\$7.00"
   ]
  },
  {
   "cell_type": "code",
   "execution_count": null,
   "metadata": {},
   "outputs": [],
   "source": []
  },
  {
   "cell_type": "markdown",
   "metadata": {},
   "source": [
    "__Q37:__ What values did you use to test if your program from __Q36__ worked correctly?  Why did you pick each of those values?"
   ]
  },
  {
   "cell_type": "markdown",
   "metadata": {},
   "source": []
  },
  {
   "cell_type": "markdown",
   "metadata": {},
   "source": [
    "### Nested Conditionals"
   ]
  },
  {
   "cell_type": "markdown",
   "metadata": {},
   "source": [
    "Consider the nested conditional given below:"
   ]
  },
  {
   "cell_type": "code",
   "execution_count": 46,
   "metadata": {},
   "outputs": [
    {
     "name": "stdout",
     "output_type": "stream",
     "text": [
      "Pass/Fail Credit\n"
     ]
    }
   ],
   "source": [
    "pass_fail_grading=True\n",
    "score=80\n",
    "\n",
    "if pass_fail_grading:\n",
    "    if score > 72:\n",
    "        print(\"Pass/Fail Credit\")\n",
    "    else:\n",
    "        print(\"Pass/Fail No Credit\")\n",
    "else: \n",
    "    if score >= 60:\n",
    "        print(\"Letter Grade Credit\")\n",
    "    else:\n",
    "        print(\"Letter Grade No Credit\")"
   ]
  },
  {
   "cell_type": "markdown",
   "metadata": {},
   "source": [
    "__Q38:__ Give values for `pass_fail_grading` and `score` that will cause the above program to output:\n",
    "- `Pass/Fail Credit`\n",
    "- `Pass/Fail No Credit`\n",
    "- `Letter Grade Credit`\n",
    "- `Letter Grade No Credit`"
   ]
  },
  {
   "cell_type": "markdown",
   "metadata": {},
   "source": []
  },
  {
   "cell_type": "markdown",
   "metadata": {},
   "source": [
    "__Q39:__ Golf courses charge different prices on weekends than they do on weekdays. They also usually provide a discount for golfers age 65 or older. Rearrange the statements below into the code cell so that the program:\n",
    "- Prompts for the day of the week.\n",
    "- Prompts for an age.\n",
    "- Prints the appropriate rate to play golf.\n",
    "\n",
    "Hint: The structure is similar to the nested conditional above __Q38__.\n",
    "\n",
    "```Python\n",
    "if (age >= 65):\n",
    "if (age >= 65):\n",
    "if (day=='Saturday') or (day=='Sunday'): \n",
    "else:\n",
    "else:\n",
    "else:\n",
    "day=input('What day do you want to play: ')\n",
    "print(\"Regular Weekend Rate: $50\")\n",
    "print(\"Senior Weekday Rate: $20\")\n",
    "print(\"Regular Weekday Rate: $30\")\n",
    "print(\"Senior Weekend Rate: $35\")\n",
    "age=int(input('How old are you: '))\n",
    "```             "
   ]
  },
  {
   "cell_type": "markdown",
   "metadata": {},
   "source": [
    "__Q40:__ The complicated rule for leap years given in __Q23__ above was established by Pope Gregory the 13th in 1384.  Prior to that the creation of that rule any year that was divisible by 4 was a leap year. Write a program that prompts the user for year and then prints out `*year* is a leap year.` or `*year* is not a leap year.` All years before 1384 that are divisible by 4 should be leap years.  All years 1384 and later should be handled using the rule in __Q23__."
   ]
  },
  {
   "cell_type": "code",
   "execution_count": null,
   "metadata": {},
   "outputs": [],
   "source": []
  },
  {
   "cell_type": "markdown",
   "metadata": {},
   "source": [
    "__Q41:__ In the winter, weather reports often refer to the *wind chill temperature*, which combines actual temperature and wind speed to obtain an estimate of what the temperature actually feels like outside in the wind. \n",
    "\n",
    "One way to compute the *wind chill temperature* is as follows:\n",
    "- Assume the following variables:\n",
    "  - `temp` is the actual temperature in degrees fahrenheit \n",
    "  - `wind_speed` the wind speed in miles per hour\n",
    "  - `wind_chill_temp` is the wind chill temperature in degrees fahrenheit\n",
    "  - `a = 91.4`, `b = 10.45`, `c = 6.69`, `d = 0.447`, and `e = 22.0` are constants developed by a meteorologist somewhere.\n",
    "\n",
    "\n",
    "- Then: \n",
    "  - If the wind is 4 miles per hour or less then there is no wind chill, so `wind_chill_temp = temp`.\n",
    "  - If the wind is over 4 miles per hour then the effect of the wind depends upon the temperature.\n",
    "  - If the temperature is over 45 degrees then\n",
    "    - `wind_chill_temp = 1.5*temp - 55`\n",
    "  - If the temperature is 45 degrees or less then\n",
    "    - `wind_chill_temp = a - (b + c*sqrt(wind_speed) - d*wind_speed)*(a - temp)/e`\n",
    "\n",
    "Write a program that:\n",
    "- Prompts the user for the temperature in degrees fahrenheit.\n",
    "- Prompts the user for the wind speed in miles per hour.\n",
    "- Uses a nested conditional to print the *wind chill temperature*."
   ]
  },
  {
   "cell_type": "code",
   "execution_count": null,
   "metadata": {},
   "outputs": [],
   "source": []
  },
  {
   "cell_type": "markdown",
   "metadata": {},
   "source": [
    "__Q42:__ An on-line shopping site has three tiers of membership, `Gold`, `Silver` and `Bronze`.  Each level provides a different level of discount as follows:\n",
    "- `None` : Anyone without a membership pays full price for all items.\n",
    "- `Gold` : everything is discounted 50\\%\n",
    "- `Silver` : items \\\\$100 or more are discounted by 20\\% and those less than \\\\$100 but \\\\$20 or more are \\\\$10 off, everything else is regular price.\n",
    "- `Bronze` : items \\\\$250 or more are discounted by 10\\% and items less than \\\\$250 are discounted 5\\%\n",
    "\n",
    "Write a program that:\n",
    "- Prompts for the membership level.\n",
    "- Prompts for the item price.\n",
    "- Prints the price that will be paid."
   ]
  },
  {
   "cell_type": "code",
   "execution_count": null,
   "metadata": {},
   "outputs": [],
   "source": []
  }
 ],
 "metadata": {
  "kernelspec": {
   "display_name": "Python 3",
   "language": "python",
   "name": "python3"
  },
  "language_info": {
   "codemirror_mode": {
    "name": "ipython",
    "version": 3
   },
   "file_extension": ".py",
   "mimetype": "text/x-python",
   "name": "python",
   "nbconvert_exporter": "python",
   "pygments_lexer": "ipython3",
   "version": "3.7.3"
  }
 },
 "nbformat": 4,
 "nbformat_minor": 2
}
